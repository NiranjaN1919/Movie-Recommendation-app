{
 "cells": [
  {
   "cell_type": "markdown",
   "id": "9af6288f",
   "metadata": {},
   "source": [
    "## DATA SET"
   ]
  },
  {
   "cell_type": "code",
   "execution_count": 11,
   "id": "d83d2dc1",
   "metadata": {},
   "outputs": [
    {
     "name": "stdout",
     "output_type": "stream",
     "text": [
      "13\n"
     ]
    },
    {
     "data": {
      "text/html": [
       "<div>\n",
       "<style scoped>\n",
       "    .dataframe tbody tr th:only-of-type {\n",
       "        vertical-align: middle;\n",
       "    }\n",
       "\n",
       "    .dataframe tbody tr th {\n",
       "        vertical-align: top;\n",
       "    }\n",
       "\n",
       "    .dataframe thead th {\n",
       "        text-align: right;\n",
       "    }\n",
       "</style>\n",
       "<table border=\"1\" class=\"dataframe\">\n",
       "  <thead>\n",
       "    <tr style=\"text-align: right;\">\n",
       "      <th></th>\n",
       "      <th>id</th>\n",
       "      <th>title</th>\n",
       "      <th>genre</th>\n",
       "      <th>original_language</th>\n",
       "      <th>overview</th>\n",
       "      <th>popularity</th>\n",
       "      <th>release_date</th>\n",
       "      <th>vote_average</th>\n",
       "      <th>vote_count</th>\n",
       "    </tr>\n",
       "  </thead>\n",
       "  <tbody>\n",
       "    <tr>\n",
       "      <th>3361</th>\n",
       "      <td>50472</td>\n",
       "      <td>Anplagghed al cinema</td>\n",
       "      <td>NaN</td>\n",
       "      <td>it</td>\n",
       "      <td>A queue at the ATM machine, a displaced family...</td>\n",
       "      <td>4.420</td>\n",
       "      <td>2006-11-26</td>\n",
       "      <td>7.0</td>\n",
       "      <td>313</td>\n",
       "    </tr>\n",
       "    <tr>\n",
       "      <th>7821</th>\n",
       "      <td>43211</td>\n",
       "      <td>7 Kilos in 7 Days</td>\n",
       "      <td>NaN</td>\n",
       "      <td>it</td>\n",
       "      <td>Two not very clever young doctors open a fitne...</td>\n",
       "      <td>5.885</td>\n",
       "      <td>1986-02-02</td>\n",
       "      <td>6.0</td>\n",
       "      <td>212</td>\n",
       "    </tr>\n",
       "    <tr>\n",
       "      <th>8518</th>\n",
       "      <td>57114</td>\n",
       "      <td>Amore, bugie e calcetto</td>\n",
       "      <td>NaN</td>\n",
       "      <td>en</td>\n",
       "      <td>NaN</td>\n",
       "      <td>4.709</td>\n",
       "      <td>2008-04-04</td>\n",
       "      <td>5.8</td>\n",
       "      <td>200</td>\n",
       "    </tr>\n",
       "  </tbody>\n",
       "</table>\n",
       "</div>"
      ],
      "text/plain": [
       "         id                    title genre original_language  \\\n",
       "3361  50472     Anplagghed al cinema   NaN                it   \n",
       "7821  43211        7 Kilos in 7 Days   NaN                it   \n",
       "8518  57114  Amore, bugie e calcetto   NaN                en   \n",
       "\n",
       "                                               overview  popularity  \\\n",
       "3361  A queue at the ATM machine, a displaced family...       4.420   \n",
       "7821  Two not very clever young doctors open a fitne...       5.885   \n",
       "8518                                                NaN       4.709   \n",
       "\n",
       "     release_date  vote_average  vote_count  \n",
       "3361   2006-11-26           7.0         313  \n",
       "7821   1986-02-02           6.0         212  \n",
       "8518   2008-04-04           5.8         200  "
      ]
     },
     "execution_count": 11,
     "metadata": {},
     "output_type": "execute_result"
    }
   ],
   "source": [
    "import pandas as pd\n",
    "\n",
    "#-----importing Data Set\n",
    "data = pd.read_csv(\"top10K-TMDB-movies.csv\")\n",
    "#data.head(10)\n",
    "\n",
    "#-----checking null values and working on it\n",
    "print(data['overview'].isnull().sum())\n",
    "data[data['overview'].isna()]\n",
    "data.isnull().sum()\n",
    "data[data['genre'].isna()]\n",
    "\n"
   ]
  },
  {
   "cell_type": "markdown",
   "id": "5584716e",
   "metadata": {},
   "source": [
    "## Feature Selection "
   ]
  },
  {
   "cell_type": "code",
   "execution_count": null,
   "id": "db1adf46",
   "metadata": {},
   "outputs": [
    {
     "name": "stderr",
     "output_type": "stream",
     "text": [
      "C:\\Users\\Niranjan\\AppData\\Local\\Temp\\ipykernel_10268\\1296373185.py:4: SettingWithCopyWarning: \n",
      "A value is trying to be set on a copy of a slice from a DataFrame.\n",
      "Try using .loc[row_indexer,col_indexer] = value instead\n",
      "\n",
      "See the caveats in the documentation: https://pandas.pydata.org/pandas-docs/stable/user_guide/indexing.html#returning-a-view-versus-a-copy\n",
      "  movies['tags'] = movies['genre'] + movies['overview']\n"
     ]
    }
   ],
   "source": [
    "movies = data[['id','title','genre','overview']]\n",
    "\n",
    "#Adding genre and overview into one \"tags\"\n",
    "movies['tags'] = movies['genre'] + movies['overview']\n",
    "movies\n",
    "\n",
    "#Removing genre and overview columns\n",
    "new_data = movies.drop(columns = ['overview','genre'])"
   ]
  },
  {
   "cell_type": "code",
   "execution_count": 31,
   "id": "80539bfa",
   "metadata": {},
   "outputs": [
    {
     "data": {
      "text/plain": [
       "(10000, 10000)"
      ]
     },
     "execution_count": 31,
     "metadata": {},
     "output_type": "execute_result"
    }
   ],
   "source": [
    "from sklearn.feature_extraction.text import CountVectorizer\n",
    "cv = CountVectorizer(max_features=10000,stop_words = 'english')\n",
    "CountVectorizer(max_features=100000,stop_words ='english')\n",
    "vector = cv.fit_transform(new_data['tags'].values.astype('U')).toarray()\n",
    "vector.shape"
   ]
  },
  {
   "cell_type": "markdown",
   "id": "c8fc1d6c",
   "metadata": {},
   "source": [
    "## Cosine Similarity technique"
   ]
  },
  {
   "cell_type": "code",
   "execution_count": null,
   "id": "127d1dc8",
   "metadata": {},
   "outputs": [
    {
     "name": "stdout",
     "output_type": "stream",
     "text": [
      "The Godfather\n",
      "The Godfather: Part II\n",
      "Felon\n",
      "House of Gucci\n",
      "Gotti\n"
     ]
    }
   ],
   "source": [
    "from sklearn.metrics.pairwise import cosine_similarity\n",
    "similarity = cosine_similarity(vector)\n",
    "\n",
    "#Accessing similar movies \n",
    "distance = sorted(list(enumerate(similarity[2])), reverse = True, key = lambda vector:vector[1])\n",
    "for i in distance[0:5]:\n",
    "    print(new_data.iloc[i[0]].title)\n"
   ]
  },
  {
   "cell_type": "markdown",
   "id": "3f44ef4b",
   "metadata": {},
   "source": [
    "## Making Function "
   ]
  },
  {
   "cell_type": "code",
   "execution_count": 40,
   "id": "0d85439d",
   "metadata": {},
   "outputs": [
    {
     "name": "stdout",
     "output_type": "stream",
     "text": [
      "Iron Man\n",
      "Mazinger Z: Infinity\n",
      "Justice League Dark\n",
      "Iron Man 3\n",
      "The Colony\n"
     ]
    }
   ],
   "source": [
    "def recommend(movies):\n",
    "    index = new_data[new_data['title']==movies].index[0]\n",
    "\n",
    "    distance = sorted(list(enumerate(similarity[index])), reverse = True, key = lambda vector:vector[1])\n",
    "    for i in distance[0:5]:\n",
    "        print(new_data.iloc[i[0]].title)\n",
    "\n",
    "recommend(\"Iron Man\")"
   ]
  },
  {
   "cell_type": "markdown",
   "id": "eff1e9c3",
   "metadata": {},
   "source": [
    "## Saving the model in pickle file"
   ]
  },
  {
   "cell_type": "code",
   "execution_count": 46,
   "id": "652d5e51",
   "metadata": {},
   "outputs": [],
   "source": [
    "import pickle\n",
    "pickle.dump(new_data, open('movies_list.pkl','wb'))\n",
    "pickle.dump(similarity, open('similarity.pkl','wb'))"
   ]
  },
  {
   "cell_type": "code",
   "execution_count": 45,
   "id": "093f2980",
   "metadata": {},
   "outputs": [
    {
     "data": {
      "text/html": [
       "<div>\n",
       "<style scoped>\n",
       "    .dataframe tbody tr th:only-of-type {\n",
       "        vertical-align: middle;\n",
       "    }\n",
       "\n",
       "    .dataframe tbody tr th {\n",
       "        vertical-align: top;\n",
       "    }\n",
       "\n",
       "    .dataframe thead th {\n",
       "        text-align: right;\n",
       "    }\n",
       "</style>\n",
       "<table border=\"1\" class=\"dataframe\">\n",
       "  <thead>\n",
       "    <tr style=\"text-align: right;\">\n",
       "      <th></th>\n",
       "      <th>id</th>\n",
       "      <th>title</th>\n",
       "      <th>tags</th>\n",
       "    </tr>\n",
       "  </thead>\n",
       "  <tbody>\n",
       "    <tr>\n",
       "      <th>0</th>\n",
       "      <td>278</td>\n",
       "      <td>The Shawshank Redemption</td>\n",
       "      <td>Drama,CrimeFramed in the 1940s for the double ...</td>\n",
       "    </tr>\n",
       "    <tr>\n",
       "      <th>1</th>\n",
       "      <td>19404</td>\n",
       "      <td>Dilwale Dulhania Le Jayenge</td>\n",
       "      <td>Comedy,Drama,RomanceRaj is a rich, carefree, h...</td>\n",
       "    </tr>\n",
       "    <tr>\n",
       "      <th>2</th>\n",
       "      <td>238</td>\n",
       "      <td>The Godfather</td>\n",
       "      <td>Drama,CrimeSpanning the years 1945 to 1955, a ...</td>\n",
       "    </tr>\n",
       "    <tr>\n",
       "      <th>3</th>\n",
       "      <td>424</td>\n",
       "      <td>Schindler's List</td>\n",
       "      <td>Drama,History,WarThe true story of how busines...</td>\n",
       "    </tr>\n",
       "    <tr>\n",
       "      <th>4</th>\n",
       "      <td>240</td>\n",
       "      <td>The Godfather: Part II</td>\n",
       "      <td>Drama,CrimeIn the continuing saga of the Corle...</td>\n",
       "    </tr>\n",
       "    <tr>\n",
       "      <th>...</th>\n",
       "      <td>...</td>\n",
       "      <td>...</td>\n",
       "      <td>...</td>\n",
       "    </tr>\n",
       "    <tr>\n",
       "      <th>9995</th>\n",
       "      <td>10196</td>\n",
       "      <td>The Last Airbender</td>\n",
       "      <td>Action,Adventure,FantasyThe story follows the ...</td>\n",
       "    </tr>\n",
       "    <tr>\n",
       "      <th>9996</th>\n",
       "      <td>331446</td>\n",
       "      <td>Sharknado 3: Oh Hell No!</td>\n",
       "      <td>Action,TV Movie,Science Fiction,Comedy,Adventu...</td>\n",
       "    </tr>\n",
       "    <tr>\n",
       "      <th>9997</th>\n",
       "      <td>13995</td>\n",
       "      <td>Captain America</td>\n",
       "      <td>Action,Science Fiction,WarDuring World War II,...</td>\n",
       "    </tr>\n",
       "    <tr>\n",
       "      <th>9998</th>\n",
       "      <td>2312</td>\n",
       "      <td>In the Name of the King: A Dungeon Siege Tale</td>\n",
       "      <td>Adventure,Fantasy,Action,DramaA man named Farm...</td>\n",
       "    </tr>\n",
       "    <tr>\n",
       "      <th>9999</th>\n",
       "      <td>455957</td>\n",
       "      <td>Domino</td>\n",
       "      <td>Thriller,Action,CrimeSeeking justice for his p...</td>\n",
       "    </tr>\n",
       "  </tbody>\n",
       "</table>\n",
       "<p>10000 rows × 3 columns</p>\n",
       "</div>"
      ],
      "text/plain": [
       "          id                                          title  \\\n",
       "0        278                       The Shawshank Redemption   \n",
       "1      19404                    Dilwale Dulhania Le Jayenge   \n",
       "2        238                                  The Godfather   \n",
       "3        424                               Schindler's List   \n",
       "4        240                         The Godfather: Part II   \n",
       "...      ...                                            ...   \n",
       "9995   10196                             The Last Airbender   \n",
       "9996  331446                       Sharknado 3: Oh Hell No!   \n",
       "9997   13995                                Captain America   \n",
       "9998    2312  In the Name of the King: A Dungeon Siege Tale   \n",
       "9999  455957                                         Domino   \n",
       "\n",
       "                                                   tags  \n",
       "0     Drama,CrimeFramed in the 1940s for the double ...  \n",
       "1     Comedy,Drama,RomanceRaj is a rich, carefree, h...  \n",
       "2     Drama,CrimeSpanning the years 1945 to 1955, a ...  \n",
       "3     Drama,History,WarThe true story of how busines...  \n",
       "4     Drama,CrimeIn the continuing saga of the Corle...  \n",
       "...                                                 ...  \n",
       "9995  Action,Adventure,FantasyThe story follows the ...  \n",
       "9996  Action,TV Movie,Science Fiction,Comedy,Adventu...  \n",
       "9997  Action,Science Fiction,WarDuring World War II,...  \n",
       "9998  Adventure,Fantasy,Action,DramaA man named Farm...  \n",
       "9999  Thriller,Action,CrimeSeeking justice for his p...  \n",
       "\n",
       "[10000 rows x 3 columns]"
      ]
     },
     "execution_count": 45,
     "metadata": {},
     "output_type": "execute_result"
    }
   ],
   "source": [
    "pickle.load(open('movies_list.pkl','rb'))"
   ]
  }
 ],
 "metadata": {
  "kernelspec": {
   "display_name": "Python 3",
   "language": "python",
   "name": "python3"
  },
  "language_info": {
   "codemirror_mode": {
    "name": "ipython",
    "version": 3
   },
   "file_extension": ".py",
   "mimetype": "text/x-python",
   "name": "python",
   "nbconvert_exporter": "python",
   "pygments_lexer": "ipython3",
   "version": "3.12.8"
  }
 },
 "nbformat": 4,
 "nbformat_minor": 5
}
